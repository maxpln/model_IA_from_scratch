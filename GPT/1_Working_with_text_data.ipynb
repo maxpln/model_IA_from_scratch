{
  "nbformat": 4,
  "nbformat_minor": 0,
  "metadata": {
    "colab": {
      "provenance": []
    },
    "kernelspec": {
      "name": "python3",
      "display_name": "Python 3"
    },
    "language_info": {
      "name": "python"
    }
  },
  "cells": [
    {
      "cell_type": "markdown",
      "source": [
        "## 1. Comprendre les embeddings de mots\n"
      ],
      "metadata": {
        "id": "45KXTI7QEqVS"
      }
    },
    {
      "cell_type": "markdown",
      "source": [
        "Les modèles de deep learning, comme les LLMs, ne peuvent pas traiter du texte brute directement. Ce n'est pas compatible avec les opérations mathématiques utilisés pour les entrainements. Il faut transformer les mots dans un espace vectoriel continue.\n",
        "\n",
        "Le concept de transfromer des données en un vecteur est souvent appelé : **embedding**.\n",
        "\n",
        "Plusieurs algorithmes ont été développé pour generer des embeddings de mots. Un de plus connus est l'approche **Word2Vec**.\n",
        "Le principe est d'entrainer un réseau de neurones à générer des embeddings de mots en prédisant le context d'un mot à partir d'un mot cible ou vice versa. L'idée principale est que les mots qui apparaissent  dasn des contextes similaires doivent avoir des sens simimaires.\n",
        "\n",
        "Les embeddings de mots peuvent avoir des dimenssions variables, d'une à des centaines.\n",
        "\n",
        "Plutôt qu'utiliser un algorithme comme Word2Vec, **la plupart des LLMs générent leurs propres embeddings qui font partis de la couche d'entrée et qui est mise à jour durant l'entrainement**.\n",
        "Cela permet d'optimiser la création d'embeddings durant l'entrainement pour la tache spécifique et les données.\n"
      ],
      "metadata": {
        "id": "iyAeSs05E767"
      }
    },
    {
      "cell_type": "markdown",
      "source": [
        "## 2. Tokenisation de texte"
      ],
      "metadata": {
        "id": "dONpXcY7Iz1e"
      }
    },
    {
      "cell_type": "markdown",
      "source": [
        "Nous allons commencer par séparer le texte en tokens. Ces tokens sont soit des mots individuels ou des caractères spéciaux dont les caractères de ponctuation."
      ],
      "metadata": {
        "id": "1J5a79D0I3_2"
      }
    },
    {
      "cell_type": "code",
      "execution_count": 40,
      "metadata": {
        "colab": {
          "base_uri": "https://localhost:8080/"
        },
        "id": "jLMU1MxMD9_y",
        "outputId": "ca172373-223a-461e-dec3-c914ba3147f8"
      },
      "outputs": [
        {
          "output_type": "stream",
          "name": "stdout",
          "text": [
            "Total number of character: 20479\n"
          ]
        }
      ],
      "source": [
        "# On télécharge le texte d'example\n",
        "import urllib.request\n",
        "url = (\"https://raw.githubusercontent.com/rasbt/LLMs-from-scratch/main/ch02/01_main-chapter-code/the-verdict.txt\")\n",
        "file_path = \"the-verdict.txt\"\n",
        "urllib.request.urlretrieve(url, file_path)\n",
        "\n",
        "# On récupère le texte du fichier\n",
        "with open(\"the-verdict.txt\", \"r\", encoding=\"utf-8\") as f:\n",
        "  raw_text = f.read()\n",
        "print(\"Total number of character:\", len(raw_text))"
      ]
    },
    {
      "cell_type": "markdown",
      "source": [
        "On va séparer le texte en liste de tokens :\n",
        "* On va séparer les mots avec les espaces et signes de ponctuation.\n",
        "* On ne met pas tous les texte en minuscule, car les lettres pacitales aident le LLM à distinguer les noms propres et communs par exemples.\n",
        "* Pour l'exemple, on supprime les espaces, mais **il peut être important de les garder si on entraine des modèle sensibles à la structure du texte** comme du code."
      ],
      "metadata": {
        "id": "B-osiAl5KLPI"
      }
    },
    {
      "cell_type": "code",
      "source": [
        "# On sépare le texte en une liste de tokens (sans les espaces pour l'exemple)\n",
        "import re\n",
        "\n",
        "text = \"Hello, world. This, is a test.\"\n",
        "result = re.split(r'([,.]|\\s)', text)\n",
        "result = [item for item in result if item.strip()]\n",
        "print(result)\n",
        "\n",
        "preprocessed = re.split(r'([,.:;?_!\"()\\']|--|\\s)', raw_text)\n",
        "preprocessed = [item.strip() for item in preprocessed if item.strip()]\n",
        "print(len(preprocessed))\n",
        "print(preprocessed[:30])"
      ],
      "metadata": {
        "colab": {
          "base_uri": "https://localhost:8080/"
        },
        "id": "ozz1PUdGKjin",
        "outputId": "dc07b5e6-b2e1-49e1-a78f-0797e98ea916"
      },
      "execution_count": 41,
      "outputs": [
        {
          "output_type": "stream",
          "name": "stdout",
          "text": [
            "['Hello', ',', 'world', '.', 'This', ',', 'is', 'a', 'test', '.']\n",
            "4690\n",
            "['I', 'HAD', 'always', 'thought', 'Jack', 'Gisburn', 'rather', 'a', 'cheap', 'genius', '--', 'though', 'a', 'good', 'fellow', 'enough', '--', 'so', 'it', 'was', 'no', 'great', 'surprise', 'to', 'me', 'to', 'hear', 'that', ',', 'in']\n"
          ]
        }
      ]
    },
    {
      "cell_type": "markdown",
      "source": [
        "## 3. Convertir les tokens en token IDs"
      ],
      "metadata": {
        "id": "qanvtA7LNHZr"
      }
    },
    {
      "cell_type": "markdown",
      "source": [
        "Il faut maitrenant convertir ces strings python en représentation sous forme d'entier.\n",
        "\n",
        "Pour faire cela, il faut commencer par construire un vocabulaire. Ce vocabulaire va définit comment on fait correspondre un mot unique et un caractère spécial vers un entier unique."
      ],
      "metadata": {
        "id": "MyOAHaoENNkZ"
      }
    },
    {
      "cell_type": "code",
      "source": [
        "# Création de la liste du vocabulaire\n",
        "all_words = sorted(set(preprocessed))\n",
        "vocab = {token:integer for integer,token in enumerate(all_words)}\n",
        "print(\"Vocab size :\", len(all_words))\n",
        "print(\"Vocab :\", vocab)"
      ],
      "metadata": {
        "colab": {
          "base_uri": "https://localhost:8080/"
        },
        "id": "VBndHsUPOBoB",
        "outputId": "afcf4e71-b9f6-4f32-b3af-fbbdca41326b"
      },
      "execution_count": 42,
      "outputs": [
        {
          "output_type": "stream",
          "name": "stdout",
          "text": [
            "Vocab size : 1130\n",
            "Vocab : {'!': 0, '\"': 1, \"'\": 2, '(': 3, ')': 4, ',': 5, '--': 6, '.': 7, ':': 8, ';': 9, '?': 10, 'A': 11, 'Ah': 12, 'Among': 13, 'And': 14, 'Are': 15, 'Arrt': 16, 'As': 17, 'At': 18, 'Be': 19, 'Begin': 20, 'Burlington': 21, 'But': 22, 'By': 23, 'Carlo': 24, 'Chicago': 25, 'Claude': 26, 'Come': 27, 'Croft': 28, 'Destroyed': 29, 'Devonshire': 30, 'Don': 31, 'Dubarry': 32, 'Emperors': 33, 'Florence': 34, 'For': 35, 'Gallery': 36, 'Gideon': 37, 'Gisburn': 38, 'Gisburns': 39, 'Grafton': 40, 'Greek': 41, 'Grindle': 42, 'Grindles': 43, 'HAD': 44, 'Had': 45, 'Hang': 46, 'Has': 47, 'He': 48, 'Her': 49, 'Hermia': 50, 'His': 51, 'How': 52, 'I': 53, 'If': 54, 'In': 55, 'It': 56, 'Jack': 57, 'Jove': 58, 'Just': 59, 'Lord': 60, 'Made': 61, 'Miss': 62, 'Money': 63, 'Monte': 64, 'Moon-dancers': 65, 'Mr': 66, 'Mrs': 67, 'My': 68, 'Never': 69, 'No': 70, 'Now': 71, 'Nutley': 72, 'Of': 73, 'Oh': 74, 'On': 75, 'Once': 76, 'Only': 77, 'Or': 78, 'Perhaps': 79, 'Poor': 80, 'Professional': 81, 'Renaissance': 82, 'Rickham': 83, 'Riviera': 84, 'Rome': 85, 'Russian': 86, 'Sevres': 87, 'She': 88, 'Stroud': 89, 'Strouds': 90, 'Suddenly': 91, 'That': 92, 'The': 93, 'Then': 94, 'There': 95, 'They': 96, 'This': 97, 'Those': 98, 'Though': 99, 'Thwing': 100, 'Thwings': 101, 'To': 102, 'Usually': 103, 'Venetian': 104, 'Victor': 105, 'Was': 106, 'We': 107, 'Well': 108, 'What': 109, 'When': 110, 'Why': 111, 'Yes': 112, 'You': 113, '_': 114, 'a': 115, 'abdication': 116, 'able': 117, 'about': 118, 'above': 119, 'abruptly': 120, 'absolute': 121, 'absorbed': 122, 'absurdity': 123, 'academic': 124, 'accuse': 125, 'accustomed': 126, 'across': 127, 'activity': 128, 'add': 129, 'added': 130, 'admirers': 131, 'adopted': 132, 'adulation': 133, 'advance': 134, 'aesthetic': 135, 'affect': 136, 'afraid': 137, 'after': 138, 'afterward': 139, 'again': 140, 'ago': 141, 'ah': 142, 'air': 143, 'alive': 144, 'all': 145, 'almost': 146, 'alone': 147, 'along': 148, 'always': 149, 'am': 150, 'amazement': 151, 'amid': 152, 'among': 153, 'amplest': 154, 'amusing': 155, 'an': 156, 'and': 157, 'another': 158, 'answer': 159, 'answered': 160, 'any': 161, 'anything': 162, 'anywhere': 163, 'apparent': 164, 'apparently': 165, 'appearance': 166, 'appeared': 167, 'appointed': 168, 'are': 169, 'arm': 170, 'arm-chair': 171, 'arm-chairs': 172, 'arms': 173, 'art': 174, 'articles': 175, 'artist': 176, 'as': 177, 'aside': 178, 'asked': 179, 'at': 180, 'atmosphere': 181, 'atom': 182, 'attack': 183, 'attention': 184, 'attitude': 185, 'audacities': 186, 'away': 187, 'awful': 188, 'axioms': 189, 'azaleas': 190, 'back': 191, 'background': 192, 'balance': 193, 'balancing': 194, 'balustraded': 195, 'basking': 196, 'bath-rooms': 197, 'be': 198, 'beaming': 199, 'bean-stalk': 200, 'bear': 201, 'beard': 202, 'beauty': 203, 'became': 204, 'because': 205, 'becoming': 206, 'bed': 207, 'been': 208, 'before': 209, 'began': 210, 'begun': 211, 'behind': 212, 'being': 213, 'believed': 214, 'beneath': 215, 'bespoke': 216, 'better': 217, 'between': 218, 'big': 219, 'bits': 220, 'bitterness': 221, 'blocked': 222, 'born': 223, 'borne': 224, 'boudoir': 225, 'bravura': 226, 'break': 227, 'breaking': 228, 'breathing': 229, 'bric-a-brac': 230, 'briefly': 231, 'brings': 232, 'bronzes': 233, 'brought': 234, 'brown': 235, 'brush': 236, 'bull': 237, 'business': 238, 'but': 239, 'buying': 240, 'by': 241, 'called': 242, 'came': 243, 'can': 244, 'canvas': 245, 'canvases': 246, 'cards': 247, 'care': 248, 'career': 249, 'caught': 250, 'central': 251, 'chair': 252, 'chap': 253, 'characteristic': 254, 'charming': 255, 'cheap': 256, 'check': 257, 'cheeks': 258, 'chest': 259, 'chimney-piece': 260, 'chucked': 261, 'cigar': 262, 'cigarette': 263, 'cigars': 264, 'circulation': 265, 'circumstance': 266, 'circus-clown': 267, 'claimed': 268, 'clasping': 269, 'clear': 270, 'cleverer': 271, 'close': 272, 'clue': 273, 'coat': 274, 'collapsed': 275, 'colour': 276, 'come': 277, 'comfortable': 278, 'coming': 279, 'companion': 280, 'compared': 281, 'complex': 282, 'confident': 283, 'congesting': 284, 'conjugal': 285, 'constraint': 286, 'consummate': 287, 'contended': 288, 'continued': 289, 'corner': 290, 'corrected': 291, 'could': 292, 'couldn': 293, 'count': 294, 'countenance': 295, 'couple': 296, 'course': 297, 'covered': 298, 'craft': 299, 'cried': 300, 'crossed': 301, 'crowned': 302, 'crumbled': 303, 'cry': 304, 'cured': 305, 'curiosity': 306, 'curious': 307, 'current': 308, 'curtains': 309, 'd': 310, 'dabble': 311, 'damask': 312, 'dark': 313, 'dashed': 314, 'day': 315, 'days': 316, 'dead': 317, 'deadening': 318, 'dear': 319, 'deep': 320, 'deerhound': 321, 'degree': 322, 'delicate': 323, 'demand': 324, 'denied': 325, 'deploring': 326, 'deprecating': 327, 'deprecatingly': 328, 'desire': 329, 'destroyed': 330, 'destruction': 331, 'desultory': 332, 'detail': 333, 'diagnosis': 334, 'did': 335, 'didn': 336, 'died': 337, 'dim': 338, 'dimmest': 339, 'dingy': 340, 'dining-room': 341, 'disarming': 342, 'discovery': 343, 'discrimination': 344, 'discussion': 345, 'disdain': 346, 'disdained': 347, 'disease': 348, 'disguised': 349, 'display': 350, 'dissatisfied': 351, 'distinguished': 352, 'distract': 353, 'divert': 354, 'do': 355, 'doesn': 356, 'doing': 357, 'domestic': 358, 'don': 359, 'done': 360, 'donkey': 361, 'down': 362, 'dozen': 363, 'dragged': 364, 'drawing-room': 365, 'drawing-rooms': 366, 'drawn': 367, 'dress-closets': 368, 'drew': 369, 'dropped': 370, 'each': 371, 'earth': 372, 'ease': 373, 'easel': 374, 'easy': 375, 'echoed': 376, 'economy': 377, 'effect': 378, 'effects': 379, 'efforts': 380, 'egregious': 381, 'eighteenth-century': 382, 'elbow': 383, 'elegant': 384, 'else': 385, 'embarrassed': 386, 'enabled': 387, 'end': 388, 'endless': 389, 'enjoy': 390, 'enlightenment': 391, 'enough': 392, 'ensuing': 393, 'equally': 394, 'equanimity': 395, 'escape': 396, 'established': 397, 'etching': 398, 'even': 399, 'event': 400, 'ever': 401, 'everlasting': 402, 'every': 403, 'exasperated': 404, 'except': 405, 'excuse': 406, 'excusing': 407, 'existed': 408, 'expected': 409, 'exquisite': 410, 'exquisitely': 411, 'extenuation': 412, 'exterminating': 413, 'extracting': 414, 'eye': 415, 'eyebrows': 416, 'eyes': 417, 'face': 418, 'faces': 419, 'fact': 420, 'faded': 421, 'failed': 422, 'failure': 423, 'fair': 424, 'faith': 425, 'false': 426, 'familiar': 427, 'famille-verte': 428, 'fancy': 429, 'fashionable': 430, 'fate': 431, 'feather': 432, 'feet': 433, 'fell': 434, 'fellow': 435, 'felt': 436, 'few': 437, 'fewer': 438, 'finality': 439, 'find': 440, 'fingers': 441, 'first': 442, 'fit': 443, 'fitting': 444, 'five': 445, 'flash': 446, 'flashed': 447, 'florid': 448, 'flowers': 449, 'fluently': 450, 'flung': 451, 'follow': 452, 'followed': 453, 'fond': 454, 'footstep': 455, 'for': 456, 'forced': 457, 'forcing': 458, 'forehead': 459, 'foreign': 460, 'foreseen': 461, 'forgive': 462, 'forgotten': 463, 'form': 464, 'formed': 465, 'forming': 466, 'forward': 467, 'fostered': 468, 'found': 469, 'foundations': 470, 'fragment': 471, 'fragments': 472, 'frame': 473, 'frames': 474, 'frequently': 475, 'friend': 476, 'from': 477, 'full': 478, 'fullest': 479, 'furiously': 480, 'furrowed': 481, 'garlanded': 482, 'garlands': 483, 'gave': 484, 'genial': 485, 'genius': 486, 'gesture': 487, 'get': 488, 'getting': 489, 'give': 490, 'given': 491, 'glad': 492, 'glanced': 493, 'glimpse': 494, 'gloried': 495, 'glory': 496, 'go': 497, 'going': 498, 'gone': 499, 'good': 500, 'good-breeding': 501, 'good-humoured': 502, 'got': 503, 'grace': 504, 'gradually': 505, 'gray': 506, 'grayish': 507, 'great': 508, 'greatest': 509, 'greatness': 510, 'grew': 511, 'groping': 512, 'growing': 513, 'had': 514, 'hadn': 515, 'hair': 516, 'half': 517, 'half-light': 518, 'half-mechanically': 519, 'hall': 520, 'hand': 521, 'hands': 522, 'handsome': 523, 'hanging': 524, 'happen': 525, 'happened': 526, 'hard': 527, 'hardly': 528, 'has': 529, 'have': 530, 'haven': 531, 'having': 532, 'he': 533, 'head': 534, 'hear': 535, 'heard': 536, 'heart': 537, 'height': 538, 'her': 539, 'here': 540, 'hermit': 541, 'herself': 542, 'hesitations': 543, 'hide': 544, 'high': 545, 'him': 546, 'himself': 547, 'hint': 548, 'his': 549, 'history': 550, 'holding': 551, 'home': 552, 'honour': 553, 'hooded': 554, 'hostess': 555, 'hot-house': 556, 'hour': 557, 'hours': 558, 'house': 559, 'how': 560, 'hung': 561, 'husband': 562, 'idea': 563, 'idle': 564, 'idling': 565, 'if': 566, 'immediately': 567, 'in': 568, 'incense': 569, 'indifferent': 570, 'inevitable': 571, 'inevitably': 572, 'inflexible': 573, 'insensible': 574, 'insignificant': 575, 'instinctively': 576, 'instructive': 577, 'interesting': 578, 'into': 579, 'ironic': 580, 'irony': 581, 'irrelevance': 582, 'irrevocable': 583, 'is': 584, 'it': 585, 'its': 586, 'itself': 587, 'jardiniere': 588, 'jealousy': 589, 'just': 590, 'keep': 591, 'kept': 592, 'kind': 593, 'knees': 594, 'knew': 595, 'know': 596, 'known': 597, 'laid': 598, 'lair': 599, 'landing': 600, 'language': 601, 'last': 602, 'late': 603, 'later': 604, 'latter': 605, 'laugh': 606, 'laughed': 607, 'lay': 608, 'leading': 609, 'lean': 610, 'learned': 611, 'least': 612, 'leathery': 613, 'leave': 614, 'led': 615, 'left': 616, 'leisure': 617, 'lends': 618, 'lent': 619, 'let': 620, 'lies': 621, 'life': 622, 'life-likeness': 623, 'lift': 624, 'lifted': 625, 'light': 626, 'lightly': 627, 'like': 628, 'liked': 629, 'line': 630, 'lines': 631, 'lingered': 632, 'lips': 633, 'lit': 634, 'little': 635, 'live': 636, 'll': 637, 'loathing': 638, 'long': 639, 'longed': 640, 'longer': 641, 'look': 642, 'looked': 643, 'looking': 644, 'lose': 645, 'loss': 646, 'lounging': 647, 'lovely': 648, 'lucky': 649, 'lump': 650, 'luncheon-table': 651, 'luxury': 652, 'lying': 653, 'made': 654, 'make': 655, 'man': 656, 'manage': 657, 'managed': 658, 'mantel-piece': 659, 'marble': 660, 'married': 661, 'may': 662, 'me': 663, 'meant': 664, 'mediocrity': 665, 'medium': 666, 'mentioned': 667, 'mere': 668, 'merely': 669, 'met': 670, 'might': 671, 'mighty': 672, 'millionaire': 673, 'mine': 674, 'minute': 675, 'minutes': 676, 'mirrors': 677, 'modest': 678, 'modesty': 679, 'moment': 680, 'money': 681, 'monumental': 682, 'mood': 683, 'morbidly': 684, 'more': 685, 'most': 686, 'mourn': 687, 'mourned': 688, 'moustache': 689, 'moved': 690, 'much': 691, 'muddling': 692, 'multiplied': 693, 'murmur': 694, 'muscles': 695, 'must': 696, 'my': 697, 'myself': 698, 'mysterious': 699, 'naive': 700, 'near': 701, 'nearly': 702, 'negatived': 703, 'nervous': 704, 'nervousness': 705, 'neutral': 706, 'never': 707, 'next': 708, 'no': 709, 'none': 710, 'not': 711, 'note': 712, 'nothing': 713, 'now': 714, 'nymphs': 715, 'oak': 716, 'obituary': 717, 'object': 718, 'objects': 719, 'occurred': 720, 'oddly': 721, 'of': 722, 'off': 723, 'often': 724, 'oh': 725, 'old': 726, 'on': 727, 'once': 728, 'one': 729, 'ones': 730, 'only': 731, 'onto': 732, 'open': 733, 'or': 734, 'other': 735, 'our': 736, 'ourselves': 737, 'out': 738, 'outline': 739, 'oval': 740, 'over': 741, 'own': 742, 'packed': 743, 'paid': 744, 'paint': 745, 'painted': 746, 'painter': 747, 'painting': 748, 'pale': 749, 'paled': 750, 'palm-trees': 751, 'panel': 752, 'panelling': 753, 'pardonable': 754, 'pardoned': 755, 'part': 756, 'passages': 757, 'passing': 758, 'past': 759, 'pastels': 760, 'pathos': 761, 'patient': 762, 'people': 763, 'perceptible': 764, 'perfect': 765, 'persistence': 766, 'persuasively': 767, 'phrase': 768, 'picture': 769, 'pictures': 770, 'pines': 771, 'pink': 772, 'place': 773, 'placed': 774, 'plain': 775, 'platitudes': 776, 'pleased': 777, 'pockets': 778, 'point': 779, 'poised': 780, 'poor': 781, 'portrait': 782, 'posing': 783, 'possessed': 784, 'poverty': 785, 'predicted': 786, 'preliminary': 787, 'presenting': 788, 'prestidigitation': 789, 'pretty': 790, 'previous': 791, 'price': 792, 'pride': 793, 'princely': 794, 'prism': 795, 'problem': 796, 'proclaiming': 797, 'prodigious': 798, 'profusion': 799, 'protest': 800, 'prove': 801, 'public': 802, 'purblind': 803, 'purely': 804, 'pushed': 805, 'put': 806, 'qualities': 807, 'quality': 808, 'queerly': 809, 'question': 810, 'quickly': 811, 'quietly': 812, 'quite': 813, 'quote': 814, 'rain': 815, 'raised': 816, 'random': 817, 'rather': 818, 're': 819, 'real': 820, 'really': 821, 'reared': 822, 'reason': 823, 'reassurance': 824, 'recovering': 825, 'recreated': 826, 'reflected': 827, 'reflection': 828, 'regrets': 829, 'relatively': 830, 'remained': 831, 'remember': 832, 'reminded': 833, 'repeating': 834, 'represented': 835, 'reproduction': 836, 'resented': 837, 'resolve': 838, 'resources': 839, 'rest': 840, 'rich': 841, 'ridiculous': 842, 'robbed': 843, 'romantic': 844, 'room': 845, 'rose': 846, 'rs': 847, 'rule': 848, 'run': 849, 's': 850, 'said': 851, 'same': 852, 'satisfaction': 853, 'savour': 854, 'saw': 855, 'say': 856, 'saying': 857, 'says': 858, 'scorn': 859, 'scornful': 860, 'secret': 861, 'see': 862, 'seemed': 863, 'seen': 864, 'self-confident': 865, 'send': 866, 'sensation': 867, 'sensitive': 868, 'sent': 869, 'serious': 870, 'set': 871, 'sex': 872, 'shade': 873, 'shaking': 874, 'shall': 875, 'she': 876, 'shirked': 877, 'short': 878, 'should': 879, 'shoulder': 880, 'shoulders': 881, 'show': 882, 'showed': 883, 'showy': 884, 'shrug': 885, 'shrugged': 886, 'sight': 887, 'sign': 888, 'silent': 889, 'silver': 890, 'similar': 891, 'simpleton': 892, 'simplifications': 893, 'simply': 894, 'since': 895, 'single': 896, 'sitter': 897, 'sitters': 898, 'sketch': 899, 'skill': 900, 'slight': 901, 'slightly': 902, 'slowly': 903, 'small': 904, 'smile': 905, 'smiling': 906, 'sneer': 907, 'so': 908, 'solace': 909, 'some': 910, 'somebody': 911, 'something': 912, 'spacious': 913, 'spaniel': 914, 'speaking-tubes': 915, 'speculations': 916, 'spite': 917, 'splash': 918, 'square': 919, 'stairs': 920, 'stammer': 921, 'stand': 922, 'standing': 923, 'started': 924, 'stay': 925, 'still': 926, 'stocked': 927, 'stood': 928, 'stopped': 929, 'stopping': 930, 'straddling': 931, 'straight': 932, 'strain': 933, 'straining': 934, 'strange': 935, 'straw': 936, 'stream': 937, 'stroke': 938, 'strokes': 939, 'strolled': 940, 'strongest': 941, 'strongly': 942, 'struck': 943, 'studio': 944, 'stuff': 945, 'subject': 946, 'substantial': 947, 'suburban': 948, 'such': 949, 'suddenly': 950, 'suffered': 951, 'sugar': 952, 'suggested': 953, 'sunburn': 954, 'sunburnt': 955, 'sunlit': 956, 'superb': 957, 'sure': 958, 'surest': 959, 'surface': 960, 'surprise': 961, 'surprised': 962, 'surrounded': 963, 'suspected': 964, 'sweetly': 965, 'sweetness': 966, 'swelling': 967, 'swept': 968, 'swum': 969, 't': 970, 'table': 971, 'take': 972, 'taken': 973, 'talking': 974, 'tea': 975, 'tears': 976, 'technicalities': 977, 'technique': 978, 'tell': 979, 'tells': 980, 'tempting': 981, 'terra-cotta': 982, 'terrace': 983, 'terraces': 984, 'terribly': 985, 'than': 986, 'that': 987, 'the': 988, 'their': 989, 'them': 990, 'then': 991, 'there': 992, 'therefore': 993, 'they': 994, 'thin': 995, 'thing': 996, 'things': 997, 'think': 998, 'this': 999, 'thither': 1000, 'those': 1001, 'though': 1002, 'thought': 1003, 'three': 1004, 'threshold': 1005, 'threw': 1006, 'through': 1007, 'throwing': 1008, 'tie': 1009, 'till': 1010, 'time': 1011, 'timorously': 1012, 'tinge': 1013, 'tips': 1014, 'tired': 1015, 'to': 1016, 'told': 1017, 'tone': 1018, 'tones': 1019, 'too': 1020, 'took': 1021, 'tottering': 1022, 'touched': 1023, 'toward': 1024, 'trace': 1025, 'trade': 1026, 'transmute': 1027, 'traps': 1028, 'travelled': 1029, 'tribute': 1030, 'tributes': 1031, 'tricks': 1032, 'tried': 1033, 'trouser-presses': 1034, 'true': 1035, 'truth': 1036, 'turned': 1037, 'twenty': 1038, 'twenty-four': 1039, 'twice': 1040, 'twirling': 1041, 'unaccountable': 1042, 'uncertain': 1043, 'under': 1044, 'underlay': 1045, 'underneath': 1046, 'understand': 1047, 'unexpected': 1048, 'untouched': 1049, 'unusual': 1050, 'up': 1051, 'up-stream': 1052, 'upon': 1053, 'upset': 1054, 'upstairs': 1055, 'us': 1056, 'used': 1057, 'usual': 1058, 'value': 1059, 'varnishing': 1060, 'vases': 1061, 've': 1062, 'veins': 1063, 'velveteen': 1064, 'very': 1065, 'villa': 1066, 'vindicated': 1067, 'virtuosity': 1068, 'vista': 1069, 'vocation': 1070, 'voice': 1071, 'wall': 1072, 'wander': 1073, 'want': 1074, 'wanted': 1075, 'wants': 1076, 'was': 1077, 'wasn': 1078, 'watched': 1079, 'watching': 1080, 'water-colour': 1081, 'waves': 1082, 'way': 1083, 'weekly': 1084, 'weeks': 1085, 'welcome': 1086, 'went': 1087, 'were': 1088, 'what': 1089, 'when': 1090, 'whenever': 1091, 'where': 1092, 'which': 1093, 'while': 1094, 'white': 1095, 'white-panelled': 1096, 'who': 1097, 'whole': 1098, 'whom': 1099, 'why': 1100, 'wide': 1101, 'widow': 1102, 'wife': 1103, 'wild': 1104, 'wincing': 1105, 'window-curtains': 1106, 'wish': 1107, 'with': 1108, 'without': 1109, 'wits': 1110, 'woman': 1111, 'women': 1112, 'won': 1113, 'wonder': 1114, 'wondered': 1115, 'word': 1116, 'work': 1117, 'working': 1118, 'worth': 1119, 'would': 1120, 'wouldn': 1121, 'year': 1122, 'years': 1123, 'yellow': 1124, 'yet': 1125, 'you': 1126, 'younger': 1127, 'your': 1128, 'yourself': 1129}\n"
          ]
        }
      ]
    },
    {
      "cell_type": "code",
      "source": [
        "class SimpleTokenizerV1:\n",
        "  def __init__(self, vocab):\n",
        "    \"\"\"Classe pour notre tokenizer.\"\"\"\n",
        "    self.str_to_int = vocab\n",
        "    self.int_to_str = {i:s for s,i in vocab.items()}\n",
        "\n",
        "  def encode(self, text):\n",
        "    \"\"\"Sépare le texte en tokens et créé la liste des IDs des tokens\"\"\"\n",
        "    preprocessed = re.split(r'([,.?_!\"()\\']|--|\\s)', text)\n",
        "    preprocessed = [\n",
        "      item.strip() for item in preprocessed if item.strip()\n",
        "    ]\n",
        "    ids = [self.str_to_int[s] for s in preprocessed]\n",
        "    return ids\n",
        "\n",
        "  def decode(self, ids):\n",
        "    \"\"\"Donne la correpondance inbverse pour convertir les tokens IDs en texte.\"\"\"\n",
        "    text = \" \".join([self.int_to_str[i] for i in ids])\n",
        "    text = re.sub(r'\\s+([,.?!\"()\\'])', r'\\1', text)\n",
        "    return text"
      ],
      "metadata": {
        "id": "Ohxv6bWMPKgB"
      },
      "execution_count": 43,
      "outputs": []
    },
    {
      "cell_type": "code",
      "source": [
        "# On instancie notre tokenizer\n",
        "tokenizer = SimpleTokenizerV1(vocab)\n",
        "text = \"\"\"\"It's the last he painted, you know, Mrs. Gisburn said with pardonable pride.\"\"\"\n",
        "ids = tokenizer.encode(text)\n",
        "print(ids)\n",
        "print(tokenizer.decode(ids))"
      ],
      "metadata": {
        "colab": {
          "base_uri": "https://localhost:8080/"
        },
        "id": "ermpPxO6QQ2P",
        "outputId": "cd11a7db-8732-4812-d009-faf9aa1087c3"
      },
      "execution_count": 44,
      "outputs": [
        {
          "output_type": "stream",
          "name": "stdout",
          "text": [
            "[1, 56, 2, 850, 988, 602, 533, 746, 5, 1126, 596, 5, 67, 7, 38, 851, 1108, 754, 793, 7]\n",
            "\" It' s the last he painted, you know, Mrs. Gisburn said with pardonable pride.\n"
          ]
        }
      ]
    },
    {
      "cell_type": "markdown",
      "source": [
        "## 4. Ajout de tokens spéciaux"
      ],
      "metadata": {
        "id": "J9pbv0xQQv3X"
      }
    },
    {
      "cell_type": "markdown",
      "source": [
        "* Il faut modifier le tokenizer pour gérer les mots inconnus (non présents dans le vocabulaire)\n",
        "* Il faut aussi ajouter un token pour marquer les limites des documents."
      ],
      "metadata": {
        "id": "1nzgVZwEPtzk"
      }
    },
    {
      "cell_type": "code",
      "source": [
        "# On ajoute les 2 nouveaux tokens spéciaux\n",
        "all_tokens = sorted(list(set(preprocessed)))\n",
        "all_tokens.extend([\"<|endoftext|>\", \"<|unk|>\"])\n",
        "vocab = {token:integer for integer,token in enumerate(all_tokens)}\n",
        "print(len(vocab.items()))"
      ],
      "metadata": {
        "colab": {
          "base_uri": "https://localhost:8080/"
        },
        "id": "uIdMw20UQt3i",
        "outputId": "a61517ae-2e26-4e2a-9f51-a057d819b148"
      },
      "execution_count": 45,
      "outputs": [
        {
          "output_type": "stream",
          "name": "stdout",
          "text": [
            "1132\n"
          ]
        }
      ]
    },
    {
      "cell_type": "code",
      "source": [
        "class SimpleTokenizerV2:\n",
        "  def __init__(self, vocab):\n",
        "    \"\"\"Classe pour notre tokenizer.\"\"\"\n",
        "    self.str_to_int = vocab\n",
        "    self.int_to_str = {i:s for s,i in vocab.items()}\n",
        "\n",
        "  def encode(self, text):\n",
        "    \"\"\"Sépare le texte en tokens et créé la liste des IDs des tokens\"\"\"\n",
        "    preprocessed = re.split(r'([,.?_!\"()\\']|--|\\s)', text)\n",
        "    preprocessed = [\n",
        "      item.strip() for item in preprocessed if item.strip()\n",
        "    ]\n",
        "    # On remplace les mots inconnus par <|unk|>\n",
        "    preprocessed = [item if item in self.str_to_int else \"<|unk|>\" for item in preprocessed]\n",
        "    ids = [self.str_to_int[s] for s in preprocessed]\n",
        "    return ids\n",
        "\n",
        "  def decode(self, ids):\n",
        "    \"\"\"Donne la correpondance inbverse pour convertir les tokens IDs en texte.\"\"\"\n",
        "    text = \" \".join([self.int_to_str[i] for i in ids])\n",
        "    text = re.sub(r'\\s+([,.?!\"()\\'])', r'\\1', text)\n",
        "    return text"
      ],
      "metadata": {
        "id": "0QaXG2h3ScZX"
      },
      "execution_count": 46,
      "outputs": []
    },
    {
      "cell_type": "code",
      "source": [
        "text1 = \"Hello, do you like tea?\"\n",
        "text2 = \"In the sunlit terraces of the palace.\"\n",
        "text = \" <|endoftext|> \".join((text1, text2))\n",
        "print(text)\n",
        "tokenizer = SimpleTokenizerV2(vocab)\n",
        "print(tokenizer.encode(text))\n",
        "print(tokenizer.decode(tokenizer.encode(text)))"
      ],
      "metadata": {
        "colab": {
          "base_uri": "https://localhost:8080/"
        },
        "id": "RzA721zMTGx7",
        "outputId": "fd509949-b788-442f-bc6d-585f64ba3157"
      },
      "execution_count": 47,
      "outputs": [
        {
          "output_type": "stream",
          "name": "stdout",
          "text": [
            "Hello, do you like tea? <|endoftext|> In the sunlit terraces of the palace.\n",
            "[1131, 5, 355, 1126, 628, 975, 10, 1130, 55, 988, 956, 984, 722, 988, 1131, 7]\n",
            "<|unk|>, do you like tea? <|endoftext|> In the sunlit terraces of the <|unk|>.\n"
          ]
        }
      ]
    },
    {
      "cell_type": "markdown",
      "source": [
        "Selon les LLMs, d'autres tokens spéciaux peuvent être ajouté :\n",
        "* [BOS] (begining of sequence) : token qui marque le début du texte.\n",
        "* [EOS] (end of sequence) : token positionné à la fin d'un texte et qui est utile quand on concatènede multiple textes non relié.\n",
        "* [PAD] (padding) : Quand le LLM est entrainé, un batch peut contenir des textes de taille variable. Pour s'assurer que tous les textes aient la même longueur, les textes plus courts sont étendusavec le token de padding."
      ],
      "metadata": {
        "id": "uhaNSm5kTbWH"
      }
    },
    {
      "cell_type": "markdown",
      "source": [
        "## 5. Byte pair encoding"
      ],
      "metadata": {
        "id": "XaBt9eMjU0mQ"
      }
    },
    {
      "cell_type": "markdown",
      "source": [
        "Le tokenizer BPE a été utilisé pour entrainer des LLMs comme GPT-2, GPT-3 et le modèle original utilisé dans ChatGPT.\n",
        "\n",
        "Comme l'implémentation de BPE peut être complexe, on va utiliser tiktoken qui a implémenté l'algorithme BPE de façon efficace en Rust.\n",
        "\n",
        "Le tokenizer BPE utilisé pour les modèles GPT a un vocabulaire de taille 50257.\n",
        "\n",
        "Le tokenizer BPE peut aussi gérer les mots inconnus sans token <unk>.\n",
        "L'algorithme derrière BPE va casser les mots qui ne sont pas dans le vocabulaire en sous mots-mots ou même des caractères individuels, ce qui lui permet de gérer les mots hors vocabulaire.\n",
        "\n",
        "Pour construire son vocabulaire, BPE va ittérativement regroupé les caractères fréquentys en sous-mots et les sous-mots fréquents en mots. Par exemple, il va commencer par ajouter tous les caractères individuels dans son vocabulaire (a, b, etc.). Ensuite, il va regrouper les combinaisons de caractères qui apparissent fréquemment en sous-mots (d et e => 'de' qui est fréquent dans de nombreux mots anglais). Les regroupements sont déterminés par fréquence."
      ],
      "metadata": {
        "id": "-lVOvz0iU48I"
      }
    },
    {
      "cell_type": "code",
      "source": [
        "!pip install tiktoken\n",
        "from importlib.metadata import version\n",
        "import tiktoken\n",
        "print(\"tiktoken version:\", version(\"tiktoken\"))"
      ],
      "metadata": {
        "colab": {
          "base_uri": "https://localhost:8080/"
        },
        "id": "Vo0JBWYIMIMc",
        "outputId": "8d653eb5-2271-403a-d0a9-8e3f8d5e7297"
      },
      "execution_count": 48,
      "outputs": [
        {
          "output_type": "stream",
          "name": "stdout",
          "text": [
            "Requirement already satisfied: tiktoken in /usr/local/lib/python3.10/dist-packages (0.8.0)\n",
            "Requirement already satisfied: regex>=2022.1.18 in /usr/local/lib/python3.10/dist-packages (from tiktoken) (2024.11.6)\n",
            "Requirement already satisfied: requests>=2.26.0 in /usr/local/lib/python3.10/dist-packages (from tiktoken) (2.32.3)\n",
            "Requirement already satisfied: charset-normalizer<4,>=2 in /usr/local/lib/python3.10/dist-packages (from requests>=2.26.0->tiktoken) (3.4.0)\n",
            "Requirement already satisfied: idna<4,>=2.5 in /usr/local/lib/python3.10/dist-packages (from requests>=2.26.0->tiktoken) (3.10)\n",
            "Requirement already satisfied: urllib3<3,>=1.21.1 in /usr/local/lib/python3.10/dist-packages (from requests>=2.26.0->tiktoken) (2.2.3)\n",
            "Requirement already satisfied: certifi>=2017.4.17 in /usr/local/lib/python3.10/dist-packages (from requests>=2.26.0->tiktoken) (2024.12.14)\n",
            "tiktoken version: 0.8.0\n"
          ]
        }
      ]
    },
    {
      "cell_type": "code",
      "source": [
        "# On instancie le tokenizer BPE\n",
        "tokenizer = tiktoken.get_encoding(\"gpt2\")\n",
        "\n",
        "text = (\"Hello, do you like tea? <|endoftext|> In the sunlit terraces of someunknownPlace.\")\n",
        "integers = tokenizer.encode(text, allowed_special={\"<|endoftext|>\"})\n",
        "print(integers)\n",
        "strings = tokenizer.decode(integers)\n",
        "print(strings)"
      ],
      "metadata": {
        "colab": {
          "base_uri": "https://localhost:8080/"
        },
        "id": "mP0LaetjMUdU",
        "outputId": "7abb107e-34de-4e0b-e980-7a7e41ce2196"
      },
      "execution_count": 49,
      "outputs": [
        {
          "output_type": "stream",
          "name": "stdout",
          "text": [
            "[15496, 11, 466, 345, 588, 8887, 30, 220, 50256, 554, 262, 4252, 18250, 8812, 2114, 286, 617, 34680, 27271, 13]\n",
            "Hello, do you like tea? <|endoftext|> In the sunlit terraces of someunknownPlace.\n"
          ]
        }
      ]
    },
    {
      "cell_type": "markdown",
      "source": [
        "## 6. Data sampling with sliding window"
      ],
      "metadata": {
        "id": "3nBmciGrOyMv"
      }
    },
    {
      "cell_type": "markdown",
      "source": [
        "La prochaine étape dans la création d'embedding pour le LLM est de générer les paires entrée/cible.\n",
        "\n",
        "Les LLMs sont entrainés en prédisant le mot suivant dans un texte. On va créer un data loader qui va fournir les paires entrée/cible du dataset d'entrainement en utilisant une approche de fenetre glissante."
      ],
      "metadata": {
        "id": "OyU3w7jYRS-9"
      }
    },
    {
      "cell_type": "code",
      "source": [
        "# On tokenise le texte avec le tokenizer BPE\n",
        "with open(\"the-verdict.txt\", \"r\", encoding=\"utf-8\") as f:\n",
        "    raw_text = f.read()\n",
        "enc_text = tokenizer.encode(raw_text)\n",
        "print(len(enc_text))"
      ],
      "metadata": {
        "colab": {
          "base_uri": "https://localhost:8080/"
        },
        "id": "CA0W9OBqSGPv",
        "outputId": "2b4c2ec8-b18e-4887-94a0-40753388585b"
      },
      "execution_count": 50,
      "outputs": [
        {
          "output_type": "stream",
          "name": "stdout",
          "text": [
            "5145\n"
          ]
        }
      ]
    },
    {
      "cell_type": "code",
      "source": [
        "# On garde les 50 premiers tokens pour l'exemple\n",
        "enc_sample = enc_text[50:]\n",
        "\n",
        "# Les cibles sont les entrées décalés de 1\n",
        "context_size = 4\n",
        "for i in range(1, context_size+1):\n",
        "    context = enc_sample[:i]\n",
        "    desired = enc_sample[i]\n",
        "    print(context, \"---->\", desired)\n",
        "    print(tokenizer.decode(context), \"---->\", tokenizer.decode([desired]))"
      ],
      "metadata": {
        "colab": {
          "base_uri": "https://localhost:8080/"
        },
        "id": "gzQhMSejSo8Y",
        "outputId": "0a7d5ef1-c576-450b-d730-4893e0eb20e6"
      },
      "execution_count": 51,
      "outputs": [
        {
          "output_type": "stream",
          "name": "stdout",
          "text": [
            "[290] ----> 4920\n",
            " and ---->  established\n",
            "[290, 4920] ----> 2241\n",
            " and established ---->  himself\n",
            "[290, 4920, 2241] ----> 287\n",
            " and established himself ---->  in\n",
            "[290, 4920, 2241, 287] ----> 257\n",
            " and established himself in ---->  a\n"
          ]
        }
      ]
    },
    {
      "cell_type": "code",
      "source": [
        "import torch\n",
        "from torch.utils.data import Dataset, DataLoader\n",
        "\n",
        "class GPTDatasetV1(Dataset):\n",
        "  def __init__(self, txt, tokenizer, max_length, stride):\n",
        "    \"\"\"Création du dataset pour regrouper les entrées et cibles.\n",
        "    Args:\n",
        "      stride: Décalage entre les entrées\n",
        "    \"\"\"\n",
        "    self.input_ids = []\n",
        "    self.target_ids = []\n",
        "    # Tokenisation du texte\n",
        "    token_ids = tokenizer.encode(txt)\n",
        "    # Sliding window pour séparer le texte en séquence de taille max_length\n",
        "    for i in range(0, len(token_ids) - max_length, stride):\n",
        "      input_chunk = token_ids[i:i + max_length]\n",
        "      target_chunk = token_ids[i + 1: i + max_length + 1]\n",
        "      self.input_ids.append(torch.tensor(input_chunk))\n",
        "      self.target_ids.append(torch.tensor(target_chunk))\n",
        "\n",
        "  def __len__(self):\n",
        "    \"\"\"Retourne le nb de lignes du dataset.\"\"\"\n",
        "    return len(self.input_ids)\n",
        "\n",
        "  def __getitem__(self, idx):\n",
        "    \"\"\"Retourne une ligne du dataset.\"\"\"\n",
        "    return self.input_ids[idx], self.target_ids[idx]"
      ],
      "metadata": {
        "id": "dDsFXwQZUWEe"
      },
      "execution_count": 52,
      "outputs": []
    },
    {
      "cell_type": "code",
      "source": [
        "def create_dataloader_v1(txt, batch_size=4, max_length=256, stride=128, shuffle=True, drop_last=True, num_workers=0):\n",
        "  \"\"\"Data loader pour générer des batchs avec des paires entrée/cible.\"\"\"\n",
        "  tokenizer = tiktoken.get_encoding(\"gpt2\")\n",
        "  dataset = GPTDatasetV1(txt, tokenizer, max_length, stride)\n",
        "  dataloader = DataLoader(\n",
        "    dataset,\n",
        "    batch_size=batch_size,\n",
        "    shuffle=shuffle,\n",
        "    drop_last=drop_last,  # Enlève le dernier batch s'il est pas complet\n",
        "    num_workers=num_workers  # Nb de processus CPU à utiliser pour le traitement\n",
        "  )\n",
        "  return dataloader"
      ],
      "metadata": {
        "id": "GUQXDyLxWr8G"
      },
      "execution_count": 53,
      "outputs": []
    },
    {
      "cell_type": "code",
      "source": [
        "# Test du data loader\n",
        "dataloader = create_dataloader_v1(raw_text, batch_size=1, max_length=4, stride=1, shuffle=False)\n",
        "data_iter = iter(dataloader)\n",
        "first_batch = next(data_iter)\n",
        "print(\"Batch 1 :\", first_batch)\n",
        "second_batch = next(data_iter)\n",
        "print(\"Batch 2 :\", second_batch)"
      ],
      "metadata": {
        "colab": {
          "base_uri": "https://localhost:8080/"
        },
        "id": "gynPWtapXfoD",
        "outputId": "1135f87f-dc79-4079-eec2-a6f788dde1be"
      },
      "execution_count": 54,
      "outputs": [
        {
          "output_type": "stream",
          "name": "stdout",
          "text": [
            "Batch 1 : [tensor([[  40,  367, 2885, 1464]]), tensor([[ 367, 2885, 1464, 1807]])]\n",
            "Batch 2 : [tensor([[ 367, 2885, 1464, 1807]]), tensor([[2885, 1464, 1807, 3619]])]\n"
          ]
        }
      ]
    },
    {
      "cell_type": "markdown",
      "source": [
        "Le paramètre 'stride' permet de définir le décalage en nb de tokens entre les entrées. Augmenter ce paramètre peut permettre d'utiliser le dataset entièrement sans sauter un seul mot. **Cela peut permettre d'éviter les overlap entre les batchs, ce qui augmenterait l'overfitting.**"
      ],
      "metadata": {
        "id": "WPafrOP9Y0DA"
      }
    },
    {
      "cell_type": "markdown",
      "source": [
        "## 7. Création des embeddings des tokens"
      ],
      "metadata": {
        "id": "zuKsQxbOZix9"
      }
    },
    {
      "cell_type": "markdown",
      "source": [
        "Il faut maintenant convertir les IDs des tokens en vecteurs d'embedding :\n",
        "* On commence par initialiser les poids des embeddings aléatoirement\n"
      ],
      "metadata": {
        "id": "lUyxfxNaaEE4"
      }
    },
    {
      "cell_type": "code",
      "source": [
        "# Exemple simplifié de conversion token IDs -> embeddings\n",
        "vocab_size = 6\n",
        "output_dim = 3\n",
        "\n",
        "torch.manual_seed(123)\n",
        "embedding_layer = torch.nn.Embedding(vocab_size, output_dim)\n",
        "print(\"Poids couche embedding :\", embedding_layer.weight)\n",
        "print(\"Embedding vecteur d'un token ID :\", embedding_layer(torch.tensor([3])))"
      ],
      "metadata": {
        "colab": {
          "base_uri": "https://localhost:8080/"
        },
        "id": "QUY718Qpa1Vm",
        "outputId": "92bb355a-cdff-4368-9028-eaccc79fe969"
      },
      "execution_count": 55,
      "outputs": [
        {
          "output_type": "stream",
          "name": "stdout",
          "text": [
            "Poids couche embedding : Parameter containing:\n",
            "tensor([[ 0.3374, -0.1778, -0.1690],\n",
            "        [ 0.9178,  1.5810,  1.3010],\n",
            "        [ 1.2753, -0.2010, -0.1606],\n",
            "        [-0.4015,  0.9666, -1.1481],\n",
            "        [-1.1589,  0.3255, -0.6315],\n",
            "        [-2.8400, -0.7849, -1.4096]], requires_grad=True)\n",
            "Embedding vecteur d'un token ID : tensor([[-0.4015,  0.9666, -1.1481]], grad_fn=<EmbeddingBackward0>)\n"
          ]
        }
      ]
    },
    {
      "cell_type": "markdown",
      "source": [
        "Les poids de la matrice de la couche d'embedding continet des valauers alétaoires. Ces valeurs sont optimisés durant l'entrainement du LLM.\n",
        "* Il y a une ligne pour chaque tokens possibles dans le vocabulaire.\n",
        "* Il y a une colone pour chaque dimenssion des dimenssions de l'embedding.\n",
        "\n",
        "**La couche d'embedding est essentiellment une opération de recherche qui retourne les lignes de la matrice de poids de la couche d'embedding à partir d'un ID de token.**"
      ],
      "metadata": {
        "id": "0vVLBHyth8CQ"
      }
    },
    {
      "cell_type": "code",
      "source": [
        "# On applique la couche d'embedding sur nostokens IDs\n",
        "input_ids = torch.tensor([2, 3, 5, 1])\n",
        "print(embedding_layer(input_ids))"
      ],
      "metadata": {
        "colab": {
          "base_uri": "https://localhost:8080/"
        },
        "id": "CAhMsgz4io3e",
        "outputId": "94afaf28-2309-4118-c121-98a03ef3111a"
      },
      "execution_count": 56,
      "outputs": [
        {
          "output_type": "stream",
          "name": "stdout",
          "text": [
            "tensor([[ 1.2753, -0.2010, -0.1606],\n",
            "        [-0.4015,  0.9666, -1.1481],\n",
            "        [-2.8400, -0.7849, -1.4096],\n",
            "        [ 0.9178,  1.5810,  1.3010]], grad_fn=<EmbeddingBackward0>)\n"
          ]
        }
      ]
    },
    {
      "cell_type": "markdown",
      "source": [
        "## 8. Encoder la position des mots"
      ],
      "metadata": {
        "id": "WHnI3hTsZ4cz"
      }
    },
    {
      "cell_type": "markdown",
      "source": [
        "Un petit problème des LLMs est que leur mécanisme d'auto-attention ne prend pas en compte la position ou l'ordre des tokens dans la séquence.\n",
        "\n",
        "**La couche d'embedding fonctionne de façon à ce que le même token ID a toujours la mêm représentation vectorielle d'associé, peu importe où le token ID est positionné dans la séquence.**\n",
        "\n",
        "Il va donc être utile d'injecter une information additionnelle sur la position des tokens.\n",
        "\n",
        "Il y a deux catégories d'embeddings qui tienne compte de la position :\n",
        "* *Absolute positional embeddings* : pour chaque position dans la séquence d'entrée, un embedding unique est ajouté à l'embedding du token pour transmettre sa position excat dans la séquence.\n",
        "* *Relative positional embeddings* : sur la distance entre les tokens, le modèle va apprendre les relations en terme de 'distant à quel point' plutôt que 'à quelle position exacte'. Cela permet au modèle de mieux generaliser sur les séquences de longueurs variables, même s'il n'a pas vu de telles longueurs durant l'entrainement.\n",
        "\n",
        "**Les modèles GPT d'OpenAI utilise les 'absolute positional embeddings' qui sont optimisés durant l'entrainement plutôt qu'être fixé ou prédéfini comme le 'absolute positional encodings' dans le modèle transformer original.**"
      ],
      "metadata": {
        "id": "gG26bFuvjWBa"
      }
    },
    {
      "cell_type": "code",
      "source": [
        "# Création des embeddings de position initiales\n",
        "vocab_size = 50257\n",
        "output_dim = 256\n",
        "token_embedding_layer = torch.nn.Embedding(vocab_size, output_dim)"
      ],
      "metadata": {
        "id": "hQLmkHlbnYyO"
      },
      "execution_count": 57,
      "outputs": []
    },
    {
      "cell_type": "code",
      "source": [
        "# On échantillone les données avec le data loader\n",
        "max_length = 4\n",
        "dataloader = create_dataloader_v1(\n",
        "  raw_text, batch_size=8, max_length=max_length,\n",
        "  stride=max_length, shuffle=False\n",
        ")\n",
        "data_iter = iter(dataloader)\n",
        "inputs, targets = next(data_iter)\n",
        "print(\"Token IDs:\\n\", inputs)\n",
        "print(\"\\nInputs shape:\\n\", inputs.shape)"
      ],
      "metadata": {
        "colab": {
          "base_uri": "https://localhost:8080/"
        },
        "id": "pJ_HGCrin40p",
        "outputId": "02487979-6ad8-41a7-f5de-aff2478733c9"
      },
      "execution_count": 58,
      "outputs": [
        {
          "output_type": "stream",
          "name": "stdout",
          "text": [
            "Token IDs:\n",
            " tensor([[   40,   367,  2885,  1464],\n",
            "        [ 1807,  3619,   402,   271],\n",
            "        [10899,  2138,   257,  7026],\n",
            "        [15632,   438,  2016,   257],\n",
            "        [  922,  5891,  1576,   438],\n",
            "        [  568,   340,   373,   645],\n",
            "        [ 1049,  5975,   284,   502],\n",
            "        [  284,  3285,   326,    11]])\n",
            "\n",
            "Inputs shape:\n",
            " torch.Size([8, 4])\n"
          ]
        }
      ]
    },
    {
      "cell_type": "markdown",
      "source": [
        "Le batch de données contient 8 échantillons de texte avec 4 tokens chacuns."
      ],
      "metadata": {
        "id": "eVRIYQtkkpN1"
      }
    },
    {
      "cell_type": "code",
      "source": [
        "# On créé les embeddings pour ces tokens IDs\n",
        "token_embeddings = token_embedding_layer(inputs)\n",
        "print(token_embeddings.shape)"
      ],
      "metadata": {
        "colab": {
          "base_uri": "https://localhost:8080/"
        },
        "id": "zjDqIqAqou4b",
        "outputId": "357a0424-61fe-4426-a045-9fd5c60498ce"
      },
      "execution_count": 59,
      "outputs": [
        {
          "output_type": "stream",
          "name": "stdout",
          "text": [
            "torch.Size([8, 4, 256])\n"
          ]
        }
      ]
    },
    {
      "cell_type": "markdown",
      "source": [
        "Chaque token ID est maitenant représenté dans un vecteur de dimenssion 256."
      ],
      "metadata": {
        "id": "WRy5gWKoo6Hr"
      }
    },
    {
      "cell_type": "markdown",
      "source": [
        "Pour l'approche 'absolute embedding' des modèles GPT, il faut créer une autre couche d'embedding de la même dimenssion que celle utiliser pour transfromer les token ID en embeddings."
      ],
      "metadata": {
        "id": "hgprbNICpJXM"
      }
    },
    {
      "cell_type": "code",
      "source": [
        "# Création des positional embeddings\n",
        "context_length = max_length\n",
        "pos_embedding_layer = torch.nn.Embedding(context_length, output_dim)\n",
        "pos_embeddings = pos_embedding_layer(torch.arange(context_length))\n",
        "print(pos_embeddings.shape)"
      ],
      "metadata": {
        "colab": {
          "base_uri": "https://localhost:8080/"
        },
        "id": "jUfI2pt2pdj9",
        "outputId": "0d02c9f4-ede5-4d4e-da76-b9650abb0abc"
      },
      "execution_count": 60,
      "outputs": [
        {
          "output_type": "stream",
          "name": "stdout",
          "text": [
            "torch.Size([4, 256])\n"
          ]
        }
      ]
    },
    {
      "cell_type": "markdown",
      "source": [
        "Le tensor de positional embedding contient 4 vecteur de dimenssions 256. On peut les ajouter directement aux embedings des tokens"
      ],
      "metadata": {
        "id": "rVb2nJUIpsFg"
      }
    },
    {
      "cell_type": "code",
      "source": [
        "# Somme des tokens embeddings et positional embedding\n",
        "input_embeddings = token_embeddings + pos_embeddings\n",
        "print(input_embeddings.shape)"
      ],
      "metadata": {
        "colab": {
          "base_uri": "https://localhost:8080/"
        },
        "id": "7f7LMKKUqB1L",
        "outputId": "aea45415-9214-4548-8e21-07a6f693cb03"
      },
      "execution_count": 61,
      "outputs": [
        {
          "output_type": "stream",
          "name": "stdout",
          "text": [
            "torch.Size([8, 4, 256])\n"
          ]
        }
      ]
    },
    {
      "cell_type": "markdown",
      "source": [
        "![image.png](data:image/png;base64,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)"
      ],
      "metadata": {
        "id": "bz008DF1qQCE"
      }
    }
  ]
}